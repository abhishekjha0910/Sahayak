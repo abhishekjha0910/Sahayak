{
 "cells": [
  {
   "cell_type": "code",
   "execution_count": 1,
   "metadata": {},
   "outputs": [],
   "source": [
    "from langchain_community.document_loaders import PyPDFLoader\n",
    "loader = PyPDFLoader(\"Book-Summary-Rich-Dad.pdf\") \n",
    "docs = loader.load()"
   ]
  },
  {
   "cell_type": "code",
   "execution_count": 2,
   "metadata": {},
   "outputs": [
    {
     "data": {
      "text/plain": [
       "[Document(page_content=\"Rich Dad Poor Dad was first published in 1997, and has racked up sales of 32 million copies in more than        \\n51 languages. Endorsed by many celebrities including Oprah Winfrey, this book stayed on the New York Times \\nbest-sellers list for six years. This handcrafted summary of Rich Dad Poor Dad summarises the six rules that \\nthe authors believe will help your money work for you, rather than the other way around. The summary \\ncaptures a few of the fables that the authors recount as part of explaining the six rules.\\n Poor Dad versus Rich Dad\\n'The love of money is the root of all' versus  'The lack of money is the root of all evil’\\n'I cannot afford it' versus 'How can I afford it?'\\n'Money does not matter' versus 'Money is power’\\n'Study hard so you can find a good company to work for' versus 'Study hard so you can find a good company to \\nbuy’\\nOne was my Poor Dad while the other was my Rich Dad.\\nHow did I end up with two dads? One, obviously, was my biological father, who had worked hard all his life, \\ngiven me a comfortable life and did not take much to the bank after paying his bills. \\nThe other dad, my friend Mike's dad, did not have as many degrees as my biological dad but made a lot more \\nmoney. One was my Poor Dad, while the other was my Rich Dad.\\nAs a kid, when someone suggested that I should 'make money', I roped in my friend Mike and we decided to \\nmelt down empty toothpaste tubes and make 'nickels' out of it. We took 'making money' way too literally. \\nThat is when we reached out to Mike's dad, who declared that he would teach us how to make money, but \\nnot in the classroom style.\\nRule 1: The rich do not work for money\\nOn Mike's dad's suggestion, we started helping him at his office, running some errands. The pay was not \\nmuch, just about enough to help us 9-year-olds buy some comic books. Soon, I was disillusioned enough to \\nstand up and declare that I was 'quitting my job'.\\nWhen Mike's dad met me, I told him how he was exploiting 9-year-olds. This is where Mike's dad, my Rich \\nDad, offered me his first lesson:01\\nBook Summar y\\nRich Dad Poor Dad\\nAuthor: R obert Kiy osaki and Shar on Lech ter\", metadata={'source': 'Book-Summary-Rich-Dad.pdf', 'page': 0}),\n",
       " Document(page_content=\"The poor work for money. The rich have money work for them\\nMost of us work for a monthly salary. We work hard and look forward to a pay hike. We pay our bills and \\ngrumble about how everyone around us needs to change, including our boss. \\nWe do not have 'enough' money and we believe that our problems are because of others around us. The \\nreality, however, might be that we ourselves are the problem, and we are the ones who need to change first, \\nnot the people around us.\\nThe salary becomes the focal point of our lives and we begin working for money, rather than make money. \\nUnderstanding that we all have the choice - to work for money or to have money work for us. \\nPeople who work for money are caught in a trap that they are unaware of. This trap is the cycle of working \\nvery hard, earning a salary, looking forward to vacations, balancing bill payments, holding on to the illusion of \\njob security and ultimately, looking forward to retirement.\\nFear and greed lead us to the trap\\nWe get into this trap because of fear and greed. The fear of losing our jobs gets us into the rat race and the \\ngreed to buy more and more things, keeps us running in the rat race. The trap now becomes a never-ending \\nreality.\\nThe fear of losing our jobs and therefore losing our source of money, makes us insecure, thereby letting \\nmoney (or the fear of lack of it) control our emotions and our souls. \\nWhat is important is to look deep and evaluate if a job is the best way to make money in the long run and the \\nanswer, more often than not, is that any job is just a short-term solution to a long-term problem. \\nThe only way out of this fear-greed trap is to choose our thoughts. When we choose our thoughts, we are \\nthinking rather than just responding to our emotions. Choosing our thoughts is asking 'Is there something \\nthat I am missing here?' instead of 'I deserve this raise.’\\nI took this lesson to heart and Mike and I began a comic-book library. Though it lasted just three months, we \\nwere masters of our finances and not employees. More importantly, the comic book lending library \\ngenerated money for Mike and me, even when we were not physically present in our library. \\nOur money was working for us.\\n02\\nBook Summar y\\nRich Dad Poor Dad\\nAuthor: R obert Kiy osaki and Shar on Lech ter\", metadata={'source': 'Book-Summary-Rich-Dad.pdf', 'page': 1}),\n",
       " Document(page_content=\"Rule 2: Financial literacy is necessary\\nIn 1994, I retired at the age of 47. My money was working for me. By this time, Mike had taken over his dad's \\nbusiness and grown it exponentially. Both of us were able to reach where we were, thanks to Mike's dad (my \\nRich Dad) lessons in financial literacy.\\nThe fundamentals of financial literacy, as Mike's dad taught us, is captured in just one rule: Understand the \\ndifference between an asset and a liability.\\nYou may want to believe that you know the difference between assets and liabilities. However, the truth is \\nthat a lot of us assume liabilities to be assets. Buying assets are about buying stuff that puts money in our \\npockets. Liabilities, on the other hand, take away money from our pockets.\\nA lot of us might be hugely successful in our professional domains, but we may still be financially illiterate.\\nIs your house an asset or a liability?\\nBeing financially literate is not just about making money, but more importantly, about how to spend money. A \\nlot of us see our homes as 'assets'. However, if we dig a little deeper, we will realise that a house is a liability. \\nBuying a house offers tax breaks, but it also entails additional cash expenses. Most of us buy our homes on 20-\\n30 years mortgage. In a true accounting sense, the house, then, is a liability and not an asset, until you repay \\nthe entire mortgage. \\nBuying a house and believing it to be an asset is delaying your financial education. There is no denying the \\nemotional benefit of having your own house, but it is essential to building assets that generate the money \\nwith which you buy a house. Any hike in salary needs to be invested in assets that generate income, rather \\nthan in expenditure such as a bigger house. \\nThe mantra to remember is that the rich buy assets, the poor have expenses, and the middle class buys \\nliabilities, thinking they are assets.\\nRule 3: Mind your own business\\nIf you are asked what the business of McDonald's is, your answer, instinctively, would be 'fast food' or 'burger'. \\nHowever, the founder of McDonald's, Ray Kroc, believed that McDonald's is in the business of real estate. \\nThe primary success factor for a McDonald's restaurant is its location, the land it is built on. This Ray Kroc \\n03\\nBook Summar y\\nRich Dad Poor Dad\\nAuthor: R obert Kiy osaki and Shar on Lech ter\", metadata={'source': 'Book-Summary-Rich-Dad.pdf', 'page': 2}),\n",
       " Document(page_content=\"story, recounted by Mike's dad, became our third lesson: Mind your own business\\nIt is important here to understand the difference between profession and business. A lot of us use these \\nwords interchangeably. For Ray Kroc, his profession was to sell franchises for making burgers; but his business \\nwas to build assets regarding the income-generating real estate.\\nAs a professional, we are 'minding' someone else's business. Instead, we should be 'minding' our own \\nbusiness. As a professional, you are working for a salary that becomes your 'income'. As a business person, \\nyou are looking at spending your income to buy revenue-generating assets. \\nThe 'usual assets' like a mortgage-bought home or a loan-bought car, become liabilities when we lose our jobs \\ndue to downsizing or restructuring.\\nMinding your business is about buying revenue generating assets instead of liabilities or vanity goods. \\nRevenue generating assets include stocks, bonds, mutual funds, real estate that generates net positive \\nincome after factoring mortgage and anything that produces income.\\nRule 4: Use the cover of a corporation\\nThe genesis of levying taxes emerged from Britain, and the US, unlike most things British, adopted permanent \\ntaxation with the 16th Amendment.\\nTaxes today have split us into two camps - the haves and the have-nots. The have-nots believe in the \\nRobinhood philosophy of 'take from the rich'. Ironically, it is the have-nots who lose the battle on taxation. \\nBeing in a job and working hard only enables the government to tax you more. \\nThe haves, on the other hand, plays the tax game very differently. The haves mind their own business, which \\ngenerates tax benefits for them, unlike the have-nots who have a job and therefore get taxed even before \\ntheir salary reaches their banks. \\nWhat is financial IQ?\\nIn order to manage taxes, it is important to build financial IQ. Financial IQ consists of the following four \\nactions:\\n1. Understand what accounting all is about: If you are minding your own business or intend to do so, it is \\n essential to understand the basics of accounting so that you can read and understand financial \\n statements.\\n04\\nBook Summar y\\nRich Dad Poor Dad\\nAuthor: R obert Kiy osaki and Shar on Lech ter\", metadata={'source': 'Book-Summary-Rich-Dad.pdf', 'page': 3}),\n",
       " Document(page_content=\"2. Understand the science of making money or investing.\\n3. Understand the demand and supply aspects of the financial markets\\n4. Understand the law, especially regarding how the law interprets the income of an individual versus the \\n income of a corporation.\\nWhen you work for someone, you earn, pay taxes and spend whatever remains after that. But when you mind \\nyour own business, you earn, then you spend and only then do you pay taxes.\\nRule 5: The rich invent money\\nWhen Alexander Graham Bell had just patented his invention, the telephone, he went to the biggest \\ncorporation of that time. Bell offered Western Union his patent and his company for $100,000. Western \\nUnion refused and Bell went on to create a billion dollars communication industry, with AT&T at the helm.\\nJust like Alexander Graham Bell, we too have our 'inner critic' which makes us doubt ourselves and possibly \\nbeg with others like Bell did with Western Union. It is equally true that there is a 'brave hero' inside us who \\ndares to build something. \\nIt was possibly the 'brave hero' inside Bell that helped him overcome the rejection from Western Union and \\nset him on the path of creating massive wealth using his invention of the telephone.\\nInformation is wealth\\nWe are living in extraordinary times today. While land was the currency of wealth a few centuries ago, today it \\nis information. Wealth today is not shackled by the geographical constraints.\\nOpportunities abound around us and this is the right time to ensure that our financial intelligence is at its \\nbest. How do we then increase our financial intelligence? \\nThe first concept of financial intelligence is that money is not real. The real money is our mind. Great \\nopportunities to make money emerge from a well-trained mind. The mind, when trained well, identifies \\nopportunities that later turn into money.\\nOnce we realise that the real money is in training our mind to be financially intelligent, we will be willing to \\ntake risks and invest in opportunities that others do not see. \\nBook Summar y\\nRich Dad Poor Dad\\nAuthor: R obert Kiy osaki and Shar on Lech ter\\n05\", metadata={'source': 'Book-Summary-Rich-Dad.pdf', 'page': 4}),\n",
       " Document(page_content=\"Book Summar y\\nRich Dad Poor Dad\\nAuthor: R obert Kiy osaki and Shar on Lech ter\\nRule 6: Work to learn\\nA business consultant once told me '(They) are one skill away from great wealth'. This phrase means that our \\nincome can jump exponentially if we master one more additional skill.\\n \\nEarlier in this summary, we got to know that financial IQ is a combination of accounting, investing, \\nunderstanding markets and understanding the law. However, what most people understand about making \\nmoney is 'work hard'. \\nFor most of us, our income would go up exponentially if we combine 'working hard' with the additional skill of \\nfinancial IQ. \\nWhile my Poor Dad encouraged to study more and become a specialist in one domain, my Rich Dad \\nencouraged me to 'know a little about a lot.'  It is important to understand at this stage, that learning does not \\nget along well with job security. \\nEducation is the best investment\\nYou can learn only that much if you are in the same job for years. Falling in love with job security is a wrong \\nlong-term strategy. It may work in the short term, but in the long run, it is recommended that we work to learn \\nmore, rather than earn more.\\nEducation is more valuable than money in the long run.\\nManagement of cash flow, management of your time and management of people, are the key management \\nskills needed for success. Communication skills and the ability to sell are the other core skills required to \\nsucceed in life.\\nWhy do the financially literate struggle?\\nBeing financially literate does not solve everything though. Financially literate people may still struggle to \\nbuild revenue generating assets due to the following reasons:\\nFear of losing money: There is nothing wrong in having a fear of losing money. This fear exists in all of us. What \\nmakes the difference is how you handle that fear. If the response to this fear is about playing it 'safe', then you \\nstart fearing failure, which becomes a much bigger problem than fearing losing money. \\nThe inability to take a risk makes the financially literate person ignore opportunities to build his assets column. \\nFailure should inspire winning, not take you to the safe shores. 06\", metadata={'source': 'Book-Summary-Rich-Dad.pdf', 'page': 5}),\n",
       " Document(page_content=\"Book Summar y\\n07Rich Dad Poor Dad\\nAuthor: R obert Kiy osaki and Shar on Lech ter\\nDeep-rooted cynicism: That inner critic inside us can help us or it can destroy us. When our doubts take over \\nour lives, then for every action that you plan, there will be a doomsday scenario.\\nThe more you listen to the doomsday scenario, the more such thoughts will strangle you, forcing you to let go \\nof every opportunity to buy a good quality asset.\\nLaziness: Are you too busy to take care of your wealth? Does the same hold for your health also? The reality is \\nthat this is not about you being busy, this is about you avoiding something that you would rather not face.\\nIn order to beat laziness, you need to be a little greedy. Being greedy helps you move ahead, ask for more. Of \\ncourse, too much greed will take you on the wrong track altogether.\\nBad habits: Good habits are difficult to build, while bad habits face no resistance at all. Prioritise yourself \\nwhen it comes to financial literacy. Do not be the first to pay the bills. That's a bad habit because it prioritises \\nothers over you. Do not get pushed around by landlords, bill collectors and so on.\\nArrogance: When your ego combines with ignorance, it is a lethal combination. This lethal combination is \\ncalled arrogance. Do not try the snake oil sales pitch to cover for your ignorance. Instead, educate yourself.\\nGo ahead, take action\\nIn order to make your money work for you, take action! Look for new ideas and look for teachers who can help \\nyou learn something new. Pick up Peter Lynch's book Beating the Street to understand how to pick stocks. \\nWhen the stock market crashes, do not run for cover. Dive deep end and start buying.\\nMoney is not real, it is an illusion, an idea. The science of making money is about thinking differently, \\nidentifying opportunities that help build revenue generating assets. \\nThink and Grow Rich is a popular book that you may be aware of. There's a reason why the book is not titled \\nWork Hard and Grow Rich.  Building a strong financial IQ will help you move away from general speak like \\n'Work hard' and move you towards leveraging insights to improve your financial IQ and build your wealth.\\nStart now, as action always beats inaction. \\nThis summary is from bookbhook.com library. An IIM-A initiative, bookbhook.com helps you get introduced \\nto more than 200 life-changing nonfiction books\", metadata={'source': 'Book-Summary-Rich-Dad.pdf', 'page': 6})]"
      ]
     },
     "execution_count": 2,
     "metadata": {},
     "output_type": "execute_result"
    }
   ],
   "source": [
    "docs"
   ]
  },
  {
   "cell_type": "code",
   "execution_count": 3,
   "metadata": {},
   "outputs": [],
   "source": [
    "from langchain.text_splitter import RecursiveCharacterTextSplitter\n",
    "text_splitter = RecursiveCharacterTextSplitter(chunk_size = 1000 , chunk_overlap=200)\n",
    "doc =text_splitter.split_documents(docs)\n"
   ]
  },
  {
   "cell_type": "code",
   "execution_count": 4,
   "metadata": {},
   "outputs": [
    {
     "name": "stderr",
     "output_type": "stream",
     "text": [
      "OllamaEmbeddings: 100%|██████████| 21/21 [04:41<00:00, 13.42s/it]\n"
     ]
    }
   ],
   "source": [
    "#vector Embedding and Vector store\n",
    "from langchain_community.llms import Ollama\n",
    "from langchain_community.embeddings import OllamaEmbeddings\n",
    "from langchain_community.vectorstores import Chroma\n",
    "db = Chroma.from_documents(documents=doc, embedding=OllamaEmbeddings(model=\"llama3\",show_progress=True))\n",
    "retriver = db.as_retriever(search_type=\"mmr\",search_kwargs={'k': 6, 'lambda_mult': 0.25})"
   ]
  },
  {
   "cell_type": "code",
   "execution_count": 10,
   "metadata": {},
   "outputs": [
    {
     "name": "stderr",
     "output_type": "stream",
     "text": [
      "OllamaEmbeddings: 100%|██████████| 1/1 [00:03<00:00,  3.61s/it]\n"
     ]
    },
    {
     "data": {
      "text/plain": [
       "'The value of the program counter\\n(PC) indicates the address of the next instruction\\nof the process being executed\\n.\\nEach process is represented by a Process Control Block\\n(PCB).\\nApni Kaksha\\n1'"
      ]
     },
     "execution_count": 10,
     "metadata": {},
     "output_type": "execute_result"
    }
   ],
   "source": [
    "#vector database\n",
    "query = \"Abstract\"\n",
    "result = db.similarity_search(query)\n",
    "result[0].page_content"
   ]
  },
  {
   "cell_type": "code",
   "execution_count": 12,
   "metadata": {},
   "outputs": [
    {
     "name": "stderr",
     "output_type": "stream",
     "text": [
      "OllamaEmbeddings:   0%|          | 0/1 [00:00<?, ?it/s]"
     ]
    },
    {
     "name": "stderr",
     "output_type": "stream",
     "text": [
      "OllamaEmbeddings: 100%|██████████| 1/1 [00:03<00:00,  3.09s/it]\n"
     ]
    },
    {
     "data": {
      "text/plain": [
       "\"I don't know about batch OS. The context doesn't mention anything specific to batch operating systems.\""
      ]
     },
     "execution_count": 12,
     "metadata": {},
     "output_type": "execute_result"
    }
   ],
   "source": [
    "from langchain_community.llms import Ollama\n",
    "from langchain_core.output_parsers import StrOutputParser\n",
    "from langchain_core.runnables import RunnablePassthrough\n",
    "from langchain_core.prompts import PromptTemplate\n",
    "import streamlit as st\n",
    "\n",
    "prmpt = PromptTemplate.from_template(\"\"\"You are an assistant for question-answering tasks. Use the following pieces of\n",
    "                                         retrieved context to answer the question. If you don't know the answer, just say that \n",
    "                                         you don't know. Use three sentences maximum and keep the answer concise.\n",
    "Question : {question}\n",
    "Context : {context}\"\"\")\n",
    "\n",
    "llm = Ollama(model=\"llama3\")\n",
    "\n",
    "OutputParser = StrOutputParser()\n",
    "\n",
    "rag_chain = (\n",
    "    {\"context\": retriver , \"question\" :RunnablePassthrough()}\n",
    "    |prmpt\n",
    "    |llm\n",
    "    |OutputParser\n",
    ")\n",
    "\n",
    "rag_chain.invoke(\"Batch OS\")\n"
   ]
  }
 ],
 "metadata": {
  "kernelspec": {
   "display_name": "Python 3",
   "language": "python",
   "name": "python3"
  },
  "language_info": {
   "codemirror_mode": {
    "name": "ipython",
    "version": 3
   },
   "file_extension": ".py",
   "mimetype": "text/x-python",
   "name": "python",
   "nbconvert_exporter": "python",
   "pygments_lexer": "ipython3",
   "version": "3.11.9"
  }
 },
 "nbformat": 4,
 "nbformat_minor": 2
}
